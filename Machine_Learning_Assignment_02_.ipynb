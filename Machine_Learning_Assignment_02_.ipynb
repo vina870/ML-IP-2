{
  "cells": [
    {
      "cell_type": "markdown",
      "metadata": {
        "id": "view-in-github",
        "colab_type": "text"
      },
      "source": [
        "<a href=\"https://colab.research.google.com/github/vina870/ML-IP-2/blob/main/Machine_Learning_Assignment_02_.ipynb\" target=\"_parent\"><img src=\"https://colab.research.google.com/assets/colab-badge.svg\" alt=\"Open In Colab\"/></a>"
      ]
    },
    {
      "cell_type": "raw",
      "id": "6ff0363e",
      "metadata": {
        "id": "6ff0363e"
      },
      "source": [
        "# Program 01\n",
        "Use a python code to display the following star pattern using the for loop\n",
        "\n",
        "*\n",
        "* *\n",
        "* * *\n",
        "* * * *\n",
        "* * * * *\n",
        "* * * *\n",
        "* * *\n",
        "* *\n",
        "*"
      ]
    },
    {
      "cell_type": "code",
      "execution_count": null,
      "id": "5160f213",
      "metadata": {
        "id": "5160f213",
        "outputId": "131c85f9-6abb-45ea-a8fb-7b5e7542aa7a"
      },
      "outputs": [
        {
          "name": "stdout",
          "output_type": "stream",
          "text": [
            "* \n",
            "* * \n",
            "* * * \n",
            "* * * * \n",
            "* * * * * \n",
            "* * * * \n",
            "* * * \n",
            "* * \n",
            "* \n"
          ]
        }
      ],
      "source": [
        "for i in range(1,6):\n",
        "    print(\"* \"*i)\n",
        "for j in range(4,0,-1):\n",
        "    print(\"* \"*j)"
      ]
    },
    {
      "cell_type": "raw",
      "id": "b59f87c9",
      "metadata": {
        "id": "b59f87c9"
      },
      "source": [
        "# Program 02\n",
        "\n",
        "Use looping to output the elements from a provided list present at odd indexes.\n",
        "my_list = [10, 20, 30, 40, 50, 60, 70, 80, 90, 100]\n",
        "\n"
      ]
    },
    {
      "cell_type": "code",
      "execution_count": null,
      "id": "b0aed5df",
      "metadata": {
        "id": "b0aed5df",
        "outputId": "abd9fdc8-5b40-4613-f39c-57a306890b2a"
      },
      "outputs": [
        {
          "name": "stdout",
          "output_type": "stream",
          "text": [
            "20\n",
            "40\n",
            "60\n",
            "80\n",
            "100\n"
          ]
        }
      ],
      "source": [
        "my_list=[10,20,30,40,50,60,70,80,90,100]\n",
        "for i in range(1,10,2):\n",
        "    print(my_list[i])"
      ]
    },
    {
      "cell_type": "raw",
      "id": "05c8b115",
      "metadata": {
        "id": "05c8b115"
      },
      "source": [
        "# Program 03\n",
        "\n",
        "Write a code that appends the type of elements from a given list.\n",
        "Input\n",
        " x = [23, ‘Python’, 23.98]\n",
        " Expected output\n",
        " [23, 'Python', 23.98]\n",
        " [<class 'int'>, <class 'str'>, <class 'float'>]\n"
      ]
    },
    {
      "cell_type": "code",
      "execution_count": null,
      "id": "eab9f561",
      "metadata": {
        "id": "eab9f561",
        "outputId": "92a93745-2c93-4b20-8d39-99f010a8f4d4"
      },
      "outputs": [
        {
          "name": "stdout",
          "output_type": "stream",
          "text": [
            "[23, 'Python', 23.98]\n",
            "[<class 'int'>, <class 'str'>, <class 'float'>]\n"
          ]
        }
      ],
      "source": [
        "x=[23,'Python',23.98]\n",
        "print(x)\n",
        "type_list=[]\n",
        "for i in x:\n",
        "    type_list.append(type(i))\n",
        "print(type_list)"
      ]
    },
    {
      "cell_type": "raw",
      "id": "f69a580b",
      "metadata": {
        "id": "f69a580b"
      },
      "source": [
        "# Program 04\n",
        "\n",
        "Write a function that takes a list and returns a new list with unique items of the first list.\n",
        "Sample List: [1,2,3,3,3,3,4,5]\n",
        "Unique List: [1, 2, 3, 4, 5]\n"
      ]
    },
    {
      "cell_type": "code",
      "execution_count": null,
      "id": "cffabcd3",
      "metadata": {
        "id": "cffabcd3",
        "outputId": "46251912-f500-4d8c-ade4-82794767938a"
      },
      "outputs": [
        {
          "name": "stdout",
          "output_type": "stream",
          "text": [
            "[1, 2, 3, 4, 5]\n"
          ]
        }
      ],
      "source": [
        "def unique(x):\n",
        "    unique_list=[]\n",
        "    for i in x:\n",
        "        if i not in unique_list:\n",
        "            unique_list.append(i)\n",
        "    return unique_list\n",
        "sample_list=[1,2,3,3,3,4,5]\n",
        "print(unique(sample_list))"
      ]
    },
    {
      "cell_type": "raw",
      "id": "6dcf3f75",
      "metadata": {
        "id": "6dcf3f75"
      },
      "source": [
        "# Program 05\n",
        "\n",
        "Write a function that accepts a string and calculate the number of upper-case letters and lower-case\n",
        "letters.\n",
        "Input String: 'The quick Brow Fox'\n",
        "Expected Output:\n",
        "No. of Upper-case characters: 3\n",
        "No. of Lower-case Characters: 12\n"
      ]
    },
    {
      "cell_type": "code",
      "execution_count": null,
      "id": "bb93508d",
      "metadata": {
        "id": "bb93508d",
        "outputId": "ec8706e6-faa8-4044-f105-ba50aaa75c25"
      },
      "outputs": [
        {
          "name": "stdout",
          "output_type": "stream",
          "text": [
            "Enter your string: The quick Brow Fox\n",
            "No. Uppper-case characters: 3\n",
            "No. Lower-case characters: 12\n"
          ]
        }
      ],
      "source": [
        "s=input(\"Enter your string: \")\n",
        "upper_count=lower_count=0\n",
        "for i in s:\n",
        "    if i.isupper():\n",
        "        upper_count+=1\n",
        "    elif i.islower():\n",
        "        lower_count+=1\n",
        "print('No. Uppper-case characters:',upper_count)\n",
        "print('No. Lower-case characters:',lower_count)"
      ]
    },
    {
      "cell_type": "code",
      "execution_count": null,
      "id": "574b4685",
      "metadata": {
        "id": "574b4685"
      },
      "outputs": [],
      "source": []
    }
  ],
  "metadata": {
    "kernelspec": {
      "display_name": "Python 3 (ipykernel)",
      "language": "python",
      "name": "python3"
    },
    "language_info": {
      "codemirror_mode": {
        "name": "ipython",
        "version": 3
      },
      "file_extension": ".py",
      "mimetype": "text/x-python",
      "name": "python",
      "nbconvert_exporter": "python",
      "pygments_lexer": "ipython3",
      "version": "3.9.13"
    },
    "colab": {
      "provenance": [],
      "include_colab_link": true
    }
  },
  "nbformat": 4,
  "nbformat_minor": 5
}